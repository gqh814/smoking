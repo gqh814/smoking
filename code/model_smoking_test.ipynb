{
 "cells": [
  {
   "attachments": {},
   "cell_type": "markdown",
   "metadata": {},
   "source": [
    "## Smoking model"
   ]
  },
  {
   "cell_type": "code",
   "execution_count": 128,
   "metadata": {},
   "outputs": [
    {
     "name": "stdout",
     "output_type": "stream",
     "text": [
      "At t=0, S=0.00, sigma=0, lambda=-0.00:\n",
      "  Optimal decision b = 0\n",
      "  Value function     = 161.0428\n"
     ]
    }
   ],
   "source": [
    "import numpy as np\n",
    "\n",
    "# ---------------------\n",
    "# 1. MODEL PARAMETERS\n",
    "# ---------------------\n",
    "T = 50             # Number of periods\n",
    "delta_S = 0.1         # Depreciation factor for S\n",
    "y = 10                # Income (or similar constant)\n",
    "p = 7                 # Price or cost parameter for smoking\n",
    "\n",
    "# Parameters for the utility function\n",
    "a_sigma  = -0.5      # Increased weight on sigma effects (disease status)\n",
    "a_0      = 0.1\n",
    "a_c      = 0.6\n",
    "a_sb     = 0.4\n",
    "a_bsigma = -0.5\n",
    "beta     = 0.99       # Increase discount factor so future matters more\n",
    "\n",
    "# ---------------------\n",
    "# 2. GRIDS\n",
    "# ---------------------\n",
    "# Grid for S (continuous, positive)\n",
    "S_grid = np.linspace(0.1, 50, 50)\n",
    "nS = len(S_grid)\n",
    "\n",
    "# Grid for sigma (binary)\n",
    "sigma_values = [0, 1]\n",
    "nSigma = len(sigma_values)\n",
    "\n",
    "# Grid for lambda (beliefs)\n",
    "lambda_grid = np.linspace(-20, 20, 50)\n",
    "nLambda = len(lambda_grid)\n",
    "\n",
    "# ---------------------\n",
    "# 3. CHOICE SET\n",
    "# ---------------------\n",
    "b_choices = [0, 1]  # e.g. 0 = no smoking, 1 = smoking\n",
    "\n",
    "# ---------------------\n",
    "# 4. UTILITY FUNCTION\n",
    "# ---------------------\n",
    "def utility(S, sigma, b):\n",
    "    \"\"\"\n",
    "    Example utility function.\n",
    "    \"\"\"\n",
    "    return np.exp(a_sigma * sigma) * (a_0 + (y - p * b)**a_c * (1 + S * b)**a_sb * (1 + sigma * b)**a_bsigma)\n",
    "\n",
    "# ---------------------\n",
    "# 5. TRANSITION FUNCTIONS\n",
    "# ---------------------\n",
    "def transition_S(S, b):\n",
    "    \"\"\"\n",
    "    Transition for S: S evolves depending on b.\n",
    "    \"\"\"\n",
    "    if b == 1:\n",
    "        new_S = (1 - delta_S) * S + 1\n",
    "    else:\n",
    "        new_S = (1 - delta_S) * S\n",
    "    # Keep S within grid bounds.\n",
    "    new_S = max(new_S, S_grid[0])\n",
    "    new_S = min(new_S, S_grid[-1])\n",
    "    return new_S\n",
    "\n",
    "# def pi_of_S(S):\n",
    "#     \"\"\"\n",
    "#     Logistic-like function: pi(S) = 1 / (1 + exp(-S)).\n",
    "#     \"\"\"\n",
    "#     return 1.0 / (1.0 + np.exp(-S))\n",
    "\n",
    "def pi_of_S(S, k=0.2, S0=50):\n",
    "    \"\"\"\n",
    "    A logistic function that maps S to (0,1) such that:\n",
    "      - If S << S0, then pi(S) is near 0.\n",
    "      - If S >> S0, then pi(S) is near 1.\n",
    "      \n",
    "    Parameters:\n",
    "      k: controls the steepness of the curve.\n",
    "      S0: the value of S at which pi(S)=0.5.\n",
    "    \"\"\"\n",
    "    return 1.0 / (1.0 + np.exp(-k * (S - S0)))\n",
    "\n",
    "\n",
    "def transition_lambda(lambda_val, S, sigma_lagged, sigma_current):\n",
    "    \"\"\"\n",
    "    Update beliefs lambda according to:\n",
    "      if sigma_lagged == 0:\n",
    "          if sigma_current == 1:\n",
    "              lambda_new = lambda + log(pi(S)/pi(0))\n",
    "          else:\n",
    "              lambda_new = lambda + log((1-pi(S))/(1-pi(0)))\n",
    "      else:\n",
    "          lambda_new = lambda\n",
    "    \"\"\"\n",
    "    if sigma_lagged == 0:\n",
    "        if sigma_current == 1:\n",
    "            new_lambda = lambda_val + np.log(pi_of_S(S) / pi_of_S(0))\n",
    "        else:\n",
    "            new_lambda = lambda_val + np.log((1 - pi_of_S(S)) / (1 - pi_of_S(0)))\n",
    "    else:\n",
    "        new_lambda = lambda_val\n",
    "    return new_lambda\n",
    "\n",
    "def prob_sigma_next_is_one(sigma_current, lambda_val, S):\n",
    "    \"\"\"\n",
    "    Returns the probability that sigma_{t+1} = 1.\n",
    "    For sigma_current=1, assume sigma remains 1.\n",
    "    For sigma_current=0, use a logistic-based formula incorporating lambda.\n",
    "    \"\"\"\n",
    "    if sigma_current == 1:\n",
    "        return 1.0\n",
    "    else:\n",
    "        # Example formulation: \n",
    "        # P(sigma_{t+1}=1 | sigma_t=0, lambda, S) = [pi(S)*exp(lambda) + pi(0)] / [1+exp(lambda)]\n",
    "        num = pi_of_S(S) * np.exp(lambda_val) + pi_of_S(0)\n",
    "        den = 1.0 + np.exp(lambda_val)\n",
    "        output = num / den\n",
    "        assert output <= 1 and output >=0, \"det er ikke en sandsynlighed\"\n",
    "        return output\n",
    "\n",
    "# ---------------------\n",
    "# 6. VALUE FUNCTION & POLICY ARRAYS\n",
    "# ---------------------\n",
    "# Four-dimensional arrays: dimensions (T, nS, nSigma, nLambda)\n",
    "V = np.zeros((T, nS, nSigma, nLambda))\n",
    "Policy = np.zeros((T, nS, nSigma, nLambda), dtype=int)\n",
    "\n",
    "# ---------------------\n",
    "# 7. BACKWARD INDUCTION\n",
    "# ---------------------\n",
    "# --- Last Period (t = T-1): Agent maximizes immediate utility ---\n",
    "t = T - 1\n",
    "for i, S_val in enumerate(S_grid):\n",
    "    for j, sigma_val in enumerate(sigma_values):\n",
    "        for k, lambda_val in enumerate(lambda_grid):\n",
    "            best_value = -np.inf\n",
    "            best_choice = 0\n",
    "            for b in b_choices:\n",
    "                u = utility(S_val, sigma_val, b)\n",
    "                if u > best_value:\n",
    "                    best_value = u\n",
    "                    best_choice = b\n",
    "            V[t, i, j, k] = best_value\n",
    "            Policy[t, i, j, k] = best_choice\n",
    "\n",
    "# --- Earlier Periods: t = T-2 down to 0 ---\n",
    "for t in reversed(range(T - 1)):\n",
    "    for i, S_val in enumerate(S_grid):\n",
    "        for j, sigma_val in enumerate(sigma_values):\n",
    "            for k, lambda_val in enumerate(lambda_grid):\n",
    "                best_value = -np.inf\n",
    "                best_choice = 0\n",
    "                for b in b_choices:\n",
    "                    # Immediate utility\n",
    "                    u = utility(S_val, sigma_val, b)\n",
    "                    \n",
    "                    # Next state for S (deterministic)\n",
    "                    S_next = transition_S(S_val, b)\n",
    "                    i_next = np.argmin(np.abs(S_grid - S_next))\n",
    "                    \n",
    "                    # Probability that sigma_{t+1}=1 (if current sigma==0)\n",
    "                    p1 = prob_sigma_next_is_one(sigma_val, lambda_val, S_val)\n",
    "                    \n",
    "                    # Determine lambda transition for both possible sigma outcomes.\n",
    "                    # For sigma_{t+1} = 1:\n",
    "                    lambda_next_1 = transition_lambda(lambda_val, S_val, sigma_val, 1)\n",
    "                    k_next_1 = np.argmin(np.abs(lambda_grid - lambda_next_1))\n",
    "                    # For sigma_{t+1} = 0:\n",
    "                    lambda_next_0 = transition_lambda(lambda_val, S_val, sigma_val, 0)\n",
    "                    k_next_0 = np.argmin(np.abs(lambda_grid - lambda_next_0))\n",
    "                    \n",
    "                    # Next sigma: if sigma already 1, remains 1; if 0, can be 1 with probability p1, 0 with 1-p1.\n",
    "                    # For sigma_{t+1}=1, we assign j_next_1 = 1, and for sigma_{t+1}=0, j_next_0 = 0.\n",
    "                    j_next_1 = 1\n",
    "                    j_next_0 = 0\n",
    "                    \n",
    "                    # Expected continuation value.\n",
    "                    cont_val = (p1 * V[t+1, i_next, j_next_1, k_next_1] +\n",
    "                                (1 - p1) * V[t+1, i_next, j_next_0, k_next_0])\n",
    "                    \n",
    "                    total_value = u + beta * cont_val\n",
    "                    # print(f'b: {b} and t: {t} and lambda: {k} we have that total value is {total_value}')\n",
    "                    if total_value > best_value:\n",
    "                        best_value = total_value\n",
    "                        best_choice = b\n",
    "\n",
    "                V[t, i, j, k] = best_value\n",
    "                Policy[t, i, j, k] = best_choice\n",
    "\n",
    "# ---------------------\n",
    "# 8. EXAMPLE USAGE\n",
    "# ---------------------\n",
    "# Retrieve the optimal decision and value at time t=0 for a given state:\n",
    "t0 = 0\n",
    "S_example = 0.0\n",
    "sigma_example = 0\n",
    "lambda_example = -0.0\n",
    "\n",
    "# Find the nearest indices in the grids\n",
    "i_example = np.argmin(np.abs(S_grid - S_example))\n",
    "j_example = sigma_values.index(sigma_example)\n",
    "k_example = np.argmin(np.abs(lambda_grid - lambda_example))\n",
    "\n",
    "optimal_decision = Policy[t0, i_example, j_example, k_example]\n",
    "optimal_value    = V[t0, i_example, j_example, k_example]\n",
    "\n",
    "print(f\"At t={t0}, S={S_example:.2f}, sigma={sigma_example}, lambda={lambda_example:.2f}:\")\n",
    "print(f\"  Optimal decision b = {optimal_decision}\")\n",
    "print(f\"  Value function     = {optimal_value:.4f}\")\n"
   ]
  },
  {
   "cell_type": "code",
   "execution_count": 129,
   "metadata": {},
   "outputs": [
    {
     "data": {
      "image/png": "[encoded data removed]",
      "text/plain": [
       "<Figure size 800x600 with 2 Axes>"
      ]
     },
     "metadata": {},
     "output_type": "display_data"
    }
   ],
   "source": [
    "import numpy as np\n",
    "import matplotlib.pyplot as plt\n",
    "from matplotlib.colors import ListedColormap, BoundaryNorm\n",
    "\n",
    "# Assuming Policy, S_grid, lambda_grid, and sigma_values are defined from the previous code.\n",
    "# Here, t0=0 and we consider sigma=0.\n",
    "t0 = 1\n",
    "sigma0_index = sigma_values.index(0)\n",
    "\n",
    "# Create a 2D array to store the optimal decision for each (S, lambda) combination.\n",
    "decision_grid = np.zeros((len(S_grid), len(lambda_grid)))\n",
    "\n",
    "# Loop over all grid points for S and lambda.\n",
    "for i, S_val in enumerate(S_grid):\n",
    "    for k, lambda_val in enumerate(lambda_grid):\n",
    "        decision_grid[i, k] = Policy[t0, i, sigma0_index, k]\n",
    "\n",
    "# Define a discrete colormap with two colors.\n",
    "# For example, blue for b=0 (no smoking) and red for b=1 (smoking).\n",
    "cmap = ListedColormap(['blue', 'red'])\n",
    "norm = BoundaryNorm(boundaries=[-0.5, 0.5, 1.5], ncolors=2)\n",
    "\n",
    "# Plot the decision grid using a heatmap.\n",
    "plt.figure(figsize=(8, 6))\n",
    "img = plt.imshow(decision_grid, extent=[lambda_grid[0], lambda_grid[-1], S_grid[0], S_grid[-1]],\n",
    "           aspect='auto', origin='lower', cmap=cmap, norm=norm)\n",
    "cbar = plt.colorbar(img, ticks=[0, 1])\n",
    "cbar.ax.set_yticklabels(['No Smoking (b=0)', 'Smoking (b=1)'])\n",
    "plt.xlabel('lambda')\n",
    "plt.ylabel('S')\n",
    "plt.title('Optimal Decision at t=0 for sigma=0')\n",
    "plt.show()\n"
   ]
  },
  {
   "cell_type": "code",
   "execution_count": 52,
   "metadata": {},
   "outputs": [
    {
     "data": {
      "text/plain": [
       "1.928749847963918e-22"
      ]
     },
     "execution_count": 52,
     "metadata": {},
     "output_type": "execute_result"
    }
   ],
   "source": [
    "pi_of_S(0,k=1)"
   ]
  },
  {
   "cell_type": "code",
   "execution_count": 50,
   "metadata": {},
   "outputs": [
    {
     "data": {
      "text/plain": [
       "0.9999546021312976"
      ]
     },
     "execution_count": 50,
     "metadata": {},
     "output_type": "execute_result"
    }
   ],
   "source": [
    "pi_of_S(100)"
   ]
  },
  {
   "cell_type": "code",
   "execution_count": 53,
   "metadata": {},
   "outputs": [
    {
     "data": {
      "text/plain": [
       "1.0"
      ]
     },
     "execution_count": 53,
     "metadata": {},
     "output_type": "execute_result"
    }
   ],
   "source": [
    "pi_of_S(100, k=1)"
   ]
  },
  {
   "cell_type": "code",
   "execution_count": 85,
   "metadata": {},
   "outputs": [
    {
     "name": "stdout",
     "output_type": "stream",
     "text": [
      "0.999909208384528\n"
     ]
    }
   ],
   "source": [
    "test_1 = prob_sigma_next_is_one(0, 10, 100)\n",
    "print(test_1)"
   ]
  },
  {
   "cell_type": "code",
   "execution_count": null,
   "metadata": {},
   "outputs": [],
   "source": []
  }
 ],
 "metadata": {
  "kernelspec": {
   "display_name": "base",
   "language": "python",
   "name": "python3"
  },
  "language_info": {
   "codemirror_mode": {
    "name": "ipython",
    "version": 3
   },
   "file_extension": ".py",
   "mimetype": "text/x-python",
   "name": "python",
   "nbconvert_exporter": "python",
   "pygments_lexer": "ipython3",
   "version": "3.9.13"
  },
  "orig_nbformat": 4,
  "vscode": {
   "interpreter": {
    "hash": "c2ae48c162d131f82ef151729d267408cc9eb575d785b70245b45a17416079a0"
   }
  }
 },
 "nbformat": 4,
 "nbformat_minor": 2
}
